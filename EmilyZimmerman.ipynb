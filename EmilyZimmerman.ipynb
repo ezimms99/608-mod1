{
 "cells": [
  {
   "cell_type": "code",
   "execution_count": 1,
   "id": "2c0e7ab0-8e1f-4686-8f3c-6c27b3b81f84",
   "metadata": {},
   "outputs": [
    {
     "data": {
      "text/plain": [
       "117"
      ]
     },
     "execution_count": 1,
     "metadata": {},
     "output_type": "execute_result"
    }
   ],
   "source": [
    "45 + 72"
   ]
  },
  {
   "cell_type": "code",
   "execution_count": 2,
   "id": "17b7c804-a4b8-4890-8067-958498edbfc5",
   "metadata": {},
   "outputs": [
    {
     "data": {
      "text/plain": [
       "21.75"
      ]
     },
     "execution_count": 2,
     "metadata": {},
     "output_type": "execute_result"
    }
   ],
   "source": [
    "5 * (12.7 - 4) /2"
   ]
  },
  {
   "cell_type": "code",
   "execution_count": 3,
   "id": "f662f012-e454-43af-a3ab-64011ba71caa",
   "metadata": {},
   "outputs": [
    {
     "data": {
      "text/plain": [
       "35"
      ]
     },
     "execution_count": 3,
     "metadata": {},
     "output_type": "execute_result"
    }
   ],
   "source": [
    "5 * (3+4) "
   ]
  },
  {
   "cell_type": "code",
   "execution_count": 4,
   "id": "5ae633c5-421d-4c87-a6d2-0a7147d484a8",
   "metadata": {},
   "outputs": [
    {
     "data": {
      "text/plain": [
       "19"
      ]
     },
     "execution_count": 4,
     "metadata": {},
     "output_type": "execute_result"
    }
   ],
   "source": [
    "5 * 3+4"
   ]
  },
  {
   "cell_type": "code",
   "execution_count": null,
   "id": "01ccf735-35ec-4888-b78e-d11605ae9ca4",
   "metadata": {},
   "outputs": [],
   "source": []
  }
 ],
 "metadata": {
  "kernelspec": {
   "display_name": "Python 3 (ipykernel)",
   "language": "python",
   "name": "python3"
  },
  "language_info": {
   "codemirror_mode": {
    "name": "ipython",
    "version": 3
   },
   "file_extension": ".py",
   "mimetype": "text/x-python",
   "name": "python",
   "nbconvert_exporter": "python",
   "pygments_lexer": "ipython3",
   "version": "3.9.12"
  }
 },
 "nbformat": 4,
 "nbformat_minor": 5
}
